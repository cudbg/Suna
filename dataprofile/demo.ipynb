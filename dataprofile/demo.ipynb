{
 "cells": [
  {
   "cell_type": "code",
   "execution_count": 11,
   "id": "7b168b1f-0736-44b5-ba7d-2d1a261bf8d8",
   "metadata": {},
   "outputs": [],
   "source": [
    "import torch\n",
    "from synthetic_exp import *\n",
    "from test_utils import *\n",
    "from scipy import stats\n",
    "from sketch_search import JoinSketch\n",
    "from bivariate_estimator import BivariateEstimator"
   ]
  },
  {
   "cell_type": "code",
   "execution_count": 2,
   "id": "b3a3c3c1-42b9-4f94-8f7c-6bf33527da49",
   "metadata": {},
   "outputs": [],
   "source": [
    "runs = 100\n",
    "num_nodes = [10, 50, 100, 500]\n",
    "mi_thresholds = [0.01, 0.02, 0.05, 0.1]\n",
    "gen_synthetic_data(runs, num_nodes, 10000)"
   ]
  },
  {
   "cell_type": "code",
   "execution_count": null,
   "id": "5e22ce95-80be-408d-a8e5-20d6f51a02c1",
   "metadata": {},
   "outputs": [],
   "source": [
    "# Change gpu to True for GPU-version of Suna\n",
    "res = accuracy_exp(\n",
    "    runs, num_nodes, mi_thresholds, hist=False,\n",
    "    fhm=True, bootstrap=False, gpu=False\n",
    ")\n",
    "\n",
    "res = accuracy_exp(\n",
    "    runs, num_nodes, mi_thresholds, hist=True,\n",
    "    fhm=False, bootstrap=False, gpu=False\n",
    ")\n",
    "\n",
    "res = accuracy_exp(\n",
    "    runs, num_nodes, mi_thresholds, hist=False,\n",
    "    fhm=True, bootstrap=False, gpu=True\n",
    ")\n",
    "\n",
    "res = accuracy_exp(\n",
    "    runs, num_nodes, mi_thresholds, hist=True,\n",
    "    fhm=False, bootstrap=False, gpu=True\n",
    ")"
   ]
  },
  {
   "cell_type": "code",
   "execution_count": 13,
   "id": "ff097f57-d7bb-4c13-9391-941eee647eb7",
   "metadata": {},
   "outputs": [
    {
     "name": "stdout",
     "output_type": "stream",
     "text": [
      "0.05400228122163471\n",
      "0.03433981579133163\n",
      "0.020600831504375933\n",
      "0.014768202614067194\n",
      "0.01050403187609537\n",
      "0.007544159105812964\n",
      "0.00886598226859952\n",
      "0.007640318892029896\n",
      "0.00575353040192979\n",
      "0.0030481184384225646\n"
     ]
    }
   ],
   "source": [
    "num_samples = [100, 1000, 5000, 10000, 50000]\n",
    "deg = 1\n",
    "for num_sample in num_samples:\n",
    "    dp = DataProfile(seed=0)\n",
    "    dp.generate_G(50)\n",
    "    dp.generate_D_from_G(num_samples=num_sample)\n",
    "    i, j = random_pair(50)\n",
    "    att1 = [f'V{i}']\n",
    "    att2 = [att for att in dp.D.columns if att not in {f'V{i}', f'V{j}', 'join_key'}][:10]\n",
    "    sketch_1 = JoinSketch(join_key_domain=dp.join_key_domain)\n",
    "    sketch_1.register_df(1, dp.D[att1 + ['join_key']], att1, deg=2)\n",
    "    sketch_2 = JoinSketch(join_key_domain=dp.join_key_domain)\n",
    "    sketch_2.register_df(2, dp.D[att2 + ['join_key']], att2, deg=2)\n",
    "    msr1 = sketch_1.sketch_loader.batch_sketches[0]\n",
    "    msr2 = sketch_2.sketch_loader.batch_sketches[0]\n",
    "    X = torch.tensor(dp.D[att1].values, dtype=torch.float32)\n",
    "    Y = torch.tensor(dp.D[att2].values, dtype=torch.float32)\n",
    "    linearHistMI = FactorizedLinearHistMI()\n",
    "    be = BivariateEstimator(degree=deg, method=linearHistMI)\n",
    "    # currently ugly-coded to save to pickles\n",
    "    mi_diff, r2, _ = be.compute_mi(msr1, msr2, X, Y, std=True)\n",
    "    H_x, H_res_y, _, _, gt_hist = hist_mi_gt(dp.D[att1 + ['join_key']], dp.D[att2 + ['join_key']], deg, std=True)\n",
    "    with open(f'hist_{len(dp.D)}.pkl', 'rb') as file:\n",
    "        est_hist, est_ent = pickle.load(file)\n",
    "    results = []\n",
    "    for i in range(len(gt_hist)):\n",
    "        tensor_hist = est_hist[:, i].numpy()\n",
    "        array_hist = gt_hist[i]\n",
    "\n",
    "        if len(tensor_hist) < len(array_hist):\n",
    "            tensor_hist = np.pad(tensor_hist, (0, len(array_hist) - len(tensor_hist)))\n",
    "        elif len(array_hist) < len(tensor_hist):\n",
    "            array_hist = np.pad(array_hist, (0, len(tensor_hist) - len(array_hist)))\n",
    "\n",
    "        tensor_hist = tensor_hist / np.sum(tensor_hist)\n",
    "        array_hist = array_hist / np.sum(array_hist)\n",
    "\n",
    "        epsilon = 1e-10\n",
    "        tensor_hist = np.clip(tensor_hist, epsilon, None)\n",
    "        array_hist = np.clip(array_hist, epsilon, None)\n",
    "\n",
    "        kl_div = stats.entropy(tensor_hist, array_hist)\n",
    "        results.append(kl_div)\n",
    "    print(np.mean(results))\n",
    "    print(np.mean(np.abs(est_ent.numpy() - H_res_y)))"
   ]
  }
 ],
 "metadata": {
  "kernelspec": {
   "display_name": "Python 3 (ipykernel)",
   "language": "python",
   "name": "python3"
  },
  "language_info": {
   "codemirror_mode": {
    "name": "ipython",
    "version": 3
   },
   "file_extension": ".py",
   "mimetype": "text/x-python",
   "name": "python",
   "nbconvert_exporter": "python",
   "pygments_lexer": "ipython3",
   "version": "3.11.10"
  }
 },
 "nbformat": 4,
 "nbformat_minor": 5
}
